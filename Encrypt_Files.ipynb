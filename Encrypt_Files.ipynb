{
 "cells": [
  {
   "cell_type": "code",
   "execution_count": null,
   "metadata": {},
   "outputs": [],
   "source": [
    "from pyAesCrypt import encryptStream,decryptStream\n",
    "import os"
   ]
  },
  {
   "cell_type": "code",
   "execution_count": null,
   "metadata": {},
   "outputs": [],
   "source": [
    "def encrypt_file(file_path, password):\n",
    "    buffer_size = 64 * 1024  # 64KB buffer size\n",
    "    encrypted_file_path = file_path + \".aes\"\n",
    "\n",
    "    with open(file_path, \"rb\") as f_in:\n",
    "        with open(encrypted_file_path, \"wb\") as f_out:\n",
    "            encryptStream(f_in, f_out, password, buffer_size)\n",
    "\n",
    "    # Optionally, remove the original file\n",
    "    os.remove(file_path)"
   ]
  },
  {
   "cell_type": "code",
   "execution_count": null,
   "metadata": {},
   "outputs": [],
   "source": [
    "def decrypt_file(encrypted_file_path, password):\n",
    "    buffer_size = 64 * 1024  # 64KB buffer size\n",
    "    decrypted_file_path = encrypted_file_path[:-4]  # Remove '.aes' extension\n",
    "\n",
    "    with open(encrypted_file_path, \"rb\") as f_in:\n",
    "        with open(decrypted_file_path, \"wb\") as f_out:\n",
    "            try:\n",
    "                decryptStream(f_in, f_out, password, buffer_size, os.path.getsize(encrypted_file_path))\n",
    "            except ValueError:\n",
    "                # Remove partially decrypted file if decryption failed\n",
    "                os.remove(decrypted_file_path)\n",
    "                print(\"Incorrect password!\")"
   ]
  }
 ],
 "metadata": {
  "kernelspec": {
   "display_name": "Python 3",
   "language": "python",
   "name": "python3"
  },
  "language_info": {
   "codemirror_mode": {
    "name": "ipython",
    "version": 3
   },
   "file_extension": ".py",
   "mimetype": "text/x-python",
   "name": "python",
   "nbconvert_exporter": "python",
   "pygments_lexer": "ipython3",
   "version": "3.13.2"
  }
 },
 "nbformat": 4,
 "nbformat_minor": 2
}
